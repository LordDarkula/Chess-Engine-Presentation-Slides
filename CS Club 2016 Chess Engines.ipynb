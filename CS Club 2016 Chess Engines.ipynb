{
 "cells": [
  {
   "cell_type": "markdown",
   "metadata": {},
   "source": [
    "# Chess Engines\n",
    "\n",
    "How do computers play chess?"
   ]
  },
  {
   "cell_type": "code",
   "execution_count": 5,
   "metadata": {
    "collapsed": true
   },
   "outputs": [],
   "source": [
    "import chess_py\n",
    "from chess_py.pieces.piece_const import Piece_values\n",
    "from chess_py import color\n",
    "from chess_py.core.algebraic import notation_const\n",
    "from chess_py import Player"
   ]
  },
  {
   "cell_type": "markdown",
   "metadata": {
    "collapsed": true
   },
   "source": [
    "## At it's core, a chess engine is a function\n",
    "\n",
    "$f(Board) = move$"
   ]
  },
  {
   "cell_type": "markdown",
   "metadata": {},
   "source": [
    "### You need some way of evaluating a position to compare it to other positions.\n",
    "You could assign values to all the pieces and calculate the following\n",
    "\n",
    "$f(Board)$ = $\\sum$myPiece - $\\sum$opponentPiece"
   ]
  },
  {
   "cell_type": "code",
   "execution_count": 10,
   "metadata": {
    "collapsed": false
   },
   "outputs": [],
   "source": [
    "    def material_advantage(board, input_color, val_scheme):\n",
    "        \"\"\"Evaluation function implemented in python \"\"\"\n",
    "        advantage = 0.0\n",
    "        for square in board:\n",
    "            if board.piece_at_square(square).color == input_color:\n",
    "                advantage += val(piece)\n",
    "            \n",
    "            if board.piece_at_square(square).color != input_color:\n",
    "                advantage -= val(piece)\n",
    "\n",
    "        return advantage"
   ]
  },
  {
   "cell_type": "markdown",
   "metadata": {
    "collapsed": true
   },
   "source": [
    "### I want to know what the position will be like a couple moves later\n",
    "![Image](https://qph.ec.quoracdn.net/main-qimg-15f391105512ad9e3b2992ba3c99e5b3?convert_to_webp=true) "
   ]
  },
  {
   "cell_type": "markdown",
   "metadata": {},
   "source": [
    "* For each possible move a player can play, there exists a number of responses. This can be represented as a tree\n",
    "* Since the computer does not have the power or speed to keep calculating every branch until termination due to checkmate, we stop at an arbitrary depth"
   ]
  },
  {
   "cell_type": "markdown",
   "metadata": {},
   "source": [
    "### Minimax: An Example\n",
    "![Minimax](http://d1gjlxt8vb0knt.cloudfront.net//wp-content/uploads/Game-Theory-Minimax-Algorithm.png)"
   ]
  },
  {
   "cell_type": "markdown",
   "metadata": {},
   "source": [
    "### We must assume our opponent will play the move that is best for them not us"
   ]
  },
  {
   "cell_type": "code",
   "execution_count": 2,
   "metadata": {
    "collapsed": true
   },
   "outputs": [],
   "source": [
    "    def depthSearch(self, position, depth, color):\n",
    "        if depth == 1:\n",
    "            return self.best_move(position, color)\n",
    "\n",
    "        moves = position.all_possible_moves(color)\n",
    "        for move in moves:\n",
    "            test = position.copy()\n",
    "            test.update(move)\n",
    "\n",
    "            best_reply = self.depthSearch(test, depth=depth - 1, color=color.opponent())\n",
    "\n",
    "            if my_move is None or my_move[1] < -best_reply[1]:\n",
    "                my_move = move, -best_reply[1]\n",
    "\n",
    "        return my_move"
   ]
  }
 ],
 "metadata": {
  "kernelspec": {
   "display_name": "Python 3",
   "language": "python",
   "name": "python3"
  },
  "language_info": {
   "codemirror_mode": {
    "name": "ipython",
    "version": 3
   },
   "file_extension": ".py",
   "mimetype": "text/x-python",
   "name": "python",
   "nbconvert_exporter": "python",
   "pygments_lexer": "ipython3",
   "version": "3.5.2"
  }
 },
 "nbformat": 4,
 "nbformat_minor": 1
}
